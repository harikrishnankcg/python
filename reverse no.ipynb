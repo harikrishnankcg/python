{
 "cells": [
  {
   "cell_type": "code",
   "execution_count": 3,
   "metadata": {},
   "outputs": [
    {
     "name": "stdout",
     "output_type": "stream",
     "text": [
      "7\n",
      "8\n",
      "9\n",
      "3\n",
      "1\n",
      "4\n",
      "6\n",
      "8\n",
      "the list is:\n",
      "[8, 9, 3, 1, 4, 6, 8]\n",
      "reversed list:\n",
      "[8, 6, 4, 1, 3, 9, 8]\n"
     ]
    }
   ],
   "source": [
    "li=[]\n",
    "n=int(input())\n",
    "for i in range(n):\n",
    " c=int(input())\n",
    " li.append(c)\n",
    "print(\"the list is:\")\n",
    "print(li)\n",
    "print(\"reversed list:\")\n",
    "print(li[::-1])\n",
    "\n"
   ]
  },
  {
   "cell_type": "code",
   "execution_count": null,
   "metadata": {},
   "outputs": [],
   "source": []
  }
 ],
 "metadata": {
  "kernelspec": {
   "display_name": "Python 3",
   "language": "python",
   "name": "python3"
  },
  "language_info": {
   "codemirror_mode": {
    "name": "ipython",
    "version": 3
   },
   "file_extension": ".py",
   "mimetype": "text/x-python",
   "name": "python",
   "nbconvert_exporter": "python",
   "pygments_lexer": "ipython3",
   "version": "3.7.0"
  }
 },
 "nbformat": 4,
 "nbformat_minor": 2
}
